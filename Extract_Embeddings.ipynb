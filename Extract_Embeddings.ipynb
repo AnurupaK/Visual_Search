{
 "cells": [
  {
   "cell_type": "code",
   "execution_count": 3,
   "metadata": {},
   "outputs": [],
   "source": [
    "import tensorflow as tf\n",
    "from tensorflow.keras.applications import ResNet50\n",
    "from tensorflow.keras.preprocessing import image\n",
    "from tensorflow.keras.applications.resnet50 import preprocess_input\n",
    "import numpy as np\n",
    "import os\n",
    "\n",
    "\n",
    "model = ResNet50(weights='imagenet', include_top=False, pooling='avg')\n",
    "\n",
    "\n"
   ]
  },
  {
   "cell_type": "code",
   "execution_count": 4,
   "metadata": {},
   "outputs": [],
   "source": [
    "def extract_features(catalog_path):\n",
    "    Embeddings = []\n",
    "    Img_names = []\n",
    "    img_folder = os.listdir(catalog_path)\n",
    "    print(img_folder)\n",
    "    for img_path in img_folder:\n",
    "            img_name = img_path[:-4]\n",
    "            img_path = os.path.join(catalog_path,img_path)\n",
    "            print(img_path)\n",
    "            img = image.load_img(img_path, target_size=(224, 224))  \n",
    "            img_array = image.img_to_array(img)\n",
    "            img_array = np.expand_dims(img_array, axis=0)  \n",
    "            img_array = preprocess_input(img_array)\n",
    "\n",
    "            # Feature extraction using ResNet50 model\n",
    "            features = model.predict(img_array)\n",
    "            features = features.flatten() \n",
    "            Embeddings.append(features)\n",
    "            Img_names.append(img_name)\n",
    "    \n",
    "    return Embeddings ,Img_names\n",
    "            "
   ]
  },
  {
   "cell_type": "code",
   "execution_count": null,
   "metadata": {},
   "outputs": [
    {
     "name": "stdout",
     "output_type": "stream",
     "text": [
      "['bed1.jpg', 'bed2.jpg', 'bed3.jpg', 'bed4.jpg', 'bed5.jpg', 'chair1.jpg', 'chair2.jpg', 'chair3.jpg', 'chair4.jpg', 'chair5.jpg', 'table1.jpg', 'table2.jpg', 'table3.jpg', 'table4.jpg', 'table5.jpg']\n",
      "E:\\Visual_Search\\catalog\\bed1.jpg\n",
      "\u001b[1m1/1\u001b[0m \u001b[32m━━━━━━━━━━━━━━━━━━━━\u001b[0m\u001b[37m\u001b[0m \u001b[1m1s\u001b[0m 936ms/step\n",
      "E:\\Visual_Search\\catalog\\bed2.jpg\n",
      "\u001b[1m1/1\u001b[0m \u001b[32m━━━━━━━━━━━━━━━━━━━━\u001b[0m\u001b[37m\u001b[0m \u001b[1m0s\u001b[0m 56ms/step\n",
      "E:\\Visual_Search\\catalog\\bed3.jpg\n",
      "\u001b[1m1/1\u001b[0m \u001b[32m━━━━━━━━━━━━━━━━━━━━\u001b[0m\u001b[37m\u001b[0m \u001b[1m0s\u001b[0m 53ms/step\n",
      "E:\\Visual_Search\\catalog\\bed4.jpg\n",
      "\u001b[1m1/1\u001b[0m \u001b[32m━━━━━━━━━━━━━━━━━━━━\u001b[0m\u001b[37m\u001b[0m \u001b[1m0s\u001b[0m 53ms/step\n",
      "E:\\Visual_Search\\catalog\\bed5.jpg\n",
      "\u001b[1m1/1\u001b[0m \u001b[32m━━━━━━━━━━━━━━━━━━━━\u001b[0m\u001b[37m\u001b[0m \u001b[1m0s\u001b[0m 49ms/step\n",
      "E:\\Visual_Search\\catalog\\chair1.jpg\n",
      "\u001b[1m1/1\u001b[0m \u001b[32m━━━━━━━━━━━━━━━━━━━━\u001b[0m\u001b[37m\u001b[0m \u001b[1m0s\u001b[0m 47ms/step\n",
      "E:\\Visual_Search\\catalog\\chair2.jpg\n",
      "\u001b[1m1/1\u001b[0m \u001b[32m━━━━━━━━━━━━━━━━━━━━\u001b[0m\u001b[37m\u001b[0m \u001b[1m0s\u001b[0m 48ms/step\n",
      "E:\\Visual_Search\\catalog\\chair3.jpg\n",
      "\u001b[1m1/1\u001b[0m \u001b[32m━━━━━━━━━━━━━━━━━━━━\u001b[0m\u001b[37m\u001b[0m \u001b[1m0s\u001b[0m 53ms/step\n",
      "E:\\Visual_Search\\catalog\\chair4.jpg\n",
      "\u001b[1m1/1\u001b[0m \u001b[32m━━━━━━━━━━━━━━━━━━━━\u001b[0m\u001b[37m\u001b[0m \u001b[1m0s\u001b[0m 50ms/step\n",
      "E:\\Visual_Search\\catalog\\chair5.jpg\n",
      "\u001b[1m1/1\u001b[0m \u001b[32m━━━━━━━━━━━━━━━━━━━━\u001b[0m\u001b[37m\u001b[0m \u001b[1m0s\u001b[0m 51ms/step\n",
      "E:\\Visual_Search\\catalog\\table1.jpg\n",
      "\u001b[1m1/1\u001b[0m \u001b[32m━━━━━━━━━━━━━━━━━━━━\u001b[0m\u001b[37m\u001b[0m \u001b[1m0s\u001b[0m 51ms/step\n",
      "E:\\Visual_Search\\catalog\\table2.jpg\n",
      "\u001b[1m1/1\u001b[0m \u001b[32m━━━━━━━━━━━━━━━━━━━━\u001b[0m\u001b[37m\u001b[0m \u001b[1m0s\u001b[0m 57ms/step\n",
      "E:\\Visual_Search\\catalog\\table3.jpg\n",
      "\u001b[1m1/1\u001b[0m \u001b[32m━━━━━━━━━━━━━━━━━━━━\u001b[0m\u001b[37m\u001b[0m \u001b[1m0s\u001b[0m 57ms/step\n",
      "E:\\Visual_Search\\catalog\\table4.jpg\n",
      "\u001b[1m1/1\u001b[0m \u001b[32m━━━━━━━━━━━━━━━━━━━━\u001b[0m\u001b[37m\u001b[0m \u001b[1m0s\u001b[0m 54ms/step\n",
      "E:\\Visual_Search\\catalog\\table5.jpg\n",
      "\u001b[1m1/1\u001b[0m \u001b[32m━━━━━━━━━━━━━━━━━━━━\u001b[0m\u001b[37m\u001b[0m \u001b[1m0s\u001b[0m 56ms/step\n"
     ]
    }
   ],
   "source": [
    "\n",
    "Embeddings,Item_names = extract_features(\"E:\\\\Visual_Search\\\\catalog\")"
   ]
  },
  {
   "cell_type": "code",
   "execution_count": 6,
   "metadata": {},
   "outputs": [
    {
     "name": "stdout",
     "output_type": "stream",
     "text": [
      "[{'Product_ID': 1, 'Product': 'bed1', 'Embedding': array([0.35811454, 0.46553335, 0.27711058, ..., 0.22350001, 0.        ,\n",
      "       0.01372472], dtype=float32)}, {'Product_ID': 2, 'Product': 'bed2', 'Embedding': array([0.6724498 , 0.6297154 , 0.14461394, ..., 0.21072322, 0.6371027 ,\n",
      "       0.10114615], dtype=float32)}, {'Product_ID': 3, 'Product': 'bed3', 'Embedding': array([0.23003717, 0.09026938, 0.29384246, ..., 0.99349755, 0.01482327,\n",
      "       0.41136095], dtype=float32)}, {'Product_ID': 4, 'Product': 'bed4', 'Embedding': array([0.3011164 , 0.5471443 , 0.8225228 , ..., 1.2212827 , 0.01551612,\n",
      "       0.09169923], dtype=float32)}, {'Product_ID': 5, 'Product': 'bed5', 'Embedding': array([0.041124  , 0.1634243 , 0.19427027, ..., 0.16904776, 0.        ,\n",
      "       0.20919478], dtype=float32)}, {'Product_ID': 6, 'Product': 'chair1', 'Embedding': array([0.19566119, 0.6701418 , 0.0320527 , ..., 0.3914907 , 0.12762298,\n",
      "       0.29589748], dtype=float32)}, {'Product_ID': 7, 'Product': 'chair2', 'Embedding': array([0.02378468, 0.02167497, 0.        , ..., 0.        , 0.        ,\n",
      "       0.3861628 ], dtype=float32)}, {'Product_ID': 8, 'Product': 'chair3', 'Embedding': array([0.00514808, 0.        , 0.43572527, ..., 0.80395526, 0.11339144,\n",
      "       0.0046015 ], dtype=float32)}, {'Product_ID': 9, 'Product': 'chair4', 'Embedding': array([0.04373218, 0.4841513 , 0.5251516 , ..., 0.81686354, 0.12598173,\n",
      "       1.2862359 ], dtype=float32)}, {'Product_ID': 10, 'Product': 'chair5', 'Embedding': array([0.2834356 , 0.41929987, 0.3837593 , ..., 0.00191405, 0.01149224,\n",
      "       0.3948558 ], dtype=float32)}, {'Product_ID': 11, 'Product': 'table1', 'Embedding': array([0.19488972, 0.01331474, 0.14895928, ..., 0.28553417, 0.        ,\n",
      "       2.0216794 ], dtype=float32)}, {'Product_ID': 12, 'Product': 'table2', 'Embedding': array([0.08570303, 0.24026252, 0.        , ..., 0.00635158, 0.7345704 ,\n",
      "       1.3736426 ], dtype=float32)}, {'Product_ID': 13, 'Product': 'table3', 'Embedding': array([0.10592099, 0.02246442, 0.11328015, ..., 0.2800093 , 0.        ,\n",
      "       2.1901386 ], dtype=float32)}, {'Product_ID': 14, 'Product': 'table4', 'Embedding': array([0.01217355, 0.08337846, 0.37300634, ..., 0.        , 0.04631093,\n",
      "       0.11181107], dtype=float32)}, {'Product_ID': 15, 'Product': 'table5', 'Embedding': array([0.2516755 , 0.3695605 , 0.18582089, ..., 0.52285814, 0.49708658,\n",
      "       0.11756936], dtype=float32)}]\n"
     ]
    }
   ],
   "source": [
    "CatalogItems = []  \n",
    "\n",
    "count = 0\n",
    "for item, embedding in zip(Item_names, Embeddings):\n",
    "    count += 1\n",
    "    product_dict = {\n",
    "        'Product_ID':count,\n",
    "        'Product': item,        \n",
    "        'Embedding': embedding  \n",
    "    }\n",
    "    CatalogItems.append(product_dict) \n",
    "\n",
    "print(CatalogItems)"
   ]
  },
  {
   "cell_type": "code",
   "execution_count": null,
   "metadata": {},
   "outputs": [],
   "source": [
    "import sqlite3\n",
    "\n",
    "connection = sqlite3.connect('Products.db')\n",
    "cursor = connection.cursor()\n",
    "\n",
    "cursor.execute('''\n",
    "    CREATE TABLE IF NOT EXISTS ProductDetails(\n",
    "        Product_ID INTEGER PRIMARY KEY, \n",
    "        name TEXT NOT NULL,\n",
    "        price REAL NOT NULL,\n",
    "        type TEXT,\n",
    "        material TEXT,\n",
    "        color TEXT,\n",
    "        features TEXT,\n",
    "        image_url TEXT\n",
    "    ) \n",
    "''')\n",
    "\n",
    "insert_query = \"\"\"\n",
    "INSERT INTO ProductDetails (Product_ID, name, price, type, material, color, features, image_url)\n",
    "VALUES (?, ?, ?, ?, ?, ?, ?, ?);\n",
    "\"\"\"\n",
    "\n",
    "product_data = [\n",
    "    # Beds\n",
    "    (1, \"Rustic Mahogany Bed\", 16000, \"Bed\", \"Mahogany Wood\", \"Dark Brown\", \"Queen Size, Sturdy Frame\", \"catalog/bed1.jpg\"),\n",
    "    (2, \"Classic Teak Bed\", 21000, \"Bed\", \"Teak Wood\", \"Natural\", \"King Size, Elegant Finish\", \"catalog/bed2.jpg\"),\n",
    "    (3, \"MJ FURNITURE Solid Wooden Queen Size Bed (Honey Finish)\", 38500, \"Queen Bed\", \"Sheesham Wood\", \"Honey Finish\", \"EMI starts at ₹1,871\", \"catalog/bed3.jpg\"),\n",
    "    (4, \"Classic Wooden King Size Bed (Teak Finish)\", 25000, \"King Bed\", \"Teak Wood\", \"Teak Finish\", \"Luxury Design, King Size\", \"catalog/bed4.jpg\"),\n",
    "    (5, \"Modern Grey Fabric Queen Size Bed\", 18000, \"Queen Bed\", \"Fabric\", \"Grey\", \"Soft Fabric, Easy to Clean\", \"catalog/bed5.jpg\"),\n",
    "\n",
    "\n",
    "\n",
    "    \n",
    "    # Chairs\n",
    "    (6, \"Vintage Maple Arm Chair\", 3200, \"Chair\", \"Maple Wood\", \"Golden Brown\", \"Comfortable, Handcrafted\", \"catalog/chair1.jpg\"),\n",
    "    (7, \"Modern Ash Dining Chair\", 3700, \"Chair\", \"Ash Wood\", \"Light Gray\", \"Ergonomic Backrest, Lightweight\", \"catalog/chair2.jpg\"),\n",
    "    (8, \"Nilkamal Paradise Plastic Arm Chair\", 1250, \"Armchair\", \"Oak wood\", \"Beige\", \"Easy EMI Options\", \"catalog/chair3.jpg\"),\n",
    "    (9, \"Comfortable Recliner Chair (Leather)\", 9500, \"Recliner Chair\", \"Leather\", \"Black\", \"Adjustable, Reclining Function\", \"catalog/chair4.jpg\"),\n",
    "    (10, \"Office Ergonomic Chair (Mesh)\", 6500, \"Office Chair\", \"Mesh\", \"Black\", \"Ergonomic, Adjustable Height\", \"catalog/chair5.jpg\"),\n",
    "\n",
    "\n",
    "\n",
    "    \n",
    "    # Tables\n",
    "    (11, \"Minimalist Pine Side Table\", 4800, \"Table\", \"Pine Wood\", \"Light Brown\", \"Compact, Contemporary Style\", \"catalog/table1.jpg\"),\n",
    "    (12, \"Vintage Oak Coffee Table\", 13500, \"Table\", \"Oak Wood\", \"Walnut\", \"Low Height, Antique Finish\", \"catalog/table2.jpg\"),\n",
    "    (13, \"PAZANO Multi-Purpose Portable & Foldable Wooden Table\", 3500, \"Table\", \"Plywood\", \"Brown\", \"No cost EMI\", \"catalog/table3.jpg\"),\n",
    "    (14, \"Rustic Wooden Dining Table (6 Seater)\", 12000, \"Dining Table\", \"Mahogany Wood\", \"Dark Brown\", \"Durable, Spacious\", \"catalog/table4.jpg\"),\n",
    "    (15, \"Elegant Glass Study Table\", 4500, \"Study Table\", \"Glass\", \"Transparent\", \"Sleek Design, Modern\", \"catalog/table5.jpg\")\n",
    "\n",
    "\n",
    "\n",
    "]\n",
    "\n",
    "cursor.executemany(insert_query, product_data)\n",
    "\n",
    "connection.commit()\n",
    "\n",
    "connection.close()\n"
   ]
  },
  {
   "cell_type": "code",
   "execution_count": 14,
   "metadata": {},
   "outputs": [
    {
     "name": "stderr",
     "output_type": "stream",
     "text": [
      "e:\\Visual_Search\\venv\\Lib\\site-packages\\pinecone\\data\\index.py:1: TqdmWarning: IProgress not found. Please update jupyter and ipywidgets. See https://ipywidgets.readthedocs.io/en/stable/user_install.html\n",
      "  from tqdm.autonotebook import tqdm\n"
     ]
    },
    {
     "data": {
      "text/plain": [
       "{'upserted_count': 15}"
      ]
     },
     "execution_count": 14,
     "metadata": {},
     "output_type": "execute_result"
    }
   ],
   "source": [
    "from dotenv import load_dotenv\n",
    "import os\n",
    "from pinecone import Pinecone, ServerlessSpec\n",
    "load_dotenv()\n",
    "api_key = os.getenv('PINECONE_API_KEY')\n",
    "\n",
    "pc = Pinecone(api_key=api_key)\n",
    "\n",
    "index_name = \"furniture\"\n",
    "\n",
    "\n",
    "if index_name not in pc.list_indexes():\n",
    "    pc.create_index(\n",
    "        name=index_name,\n",
    "        dimension=2048,  \n",
    "        metric=\"cosine\",  \n",
    "        spec=ServerlessSpec(\n",
    "            cloud=\"aws\",\n",
    "            region=\"us-east-1\"  \n",
    "        )\n",
    "    )\n",
    "\n",
    "index = pc.Index(index_name)\n",
    "\n",
    "upsert_data = []\n",
    "for item in CatalogItems:\n",
    "    upsert_data.append((str(item['Product_ID']), item['Embedding']))\n",
    "\n",
    "\n",
    "index.upsert(vectors=upsert_data,namespace='ns1')"
   ]
  }
 ],
 "metadata": {
  "kernelspec": {
   "display_name": "venv",
   "language": "python",
   "name": "python3"
  },
  "language_info": {
   "codemirror_mode": {
    "name": "ipython",
    "version": 3
   },
   "file_extension": ".py",
   "mimetype": "text/x-python",
   "name": "python",
   "nbconvert_exporter": "python",
   "pygments_lexer": "ipython3",
   "version": "3.12.4"
  }
 },
 "nbformat": 4,
 "nbformat_minor": 2
}
